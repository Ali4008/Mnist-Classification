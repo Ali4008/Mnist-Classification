{
  "nbformat": 4,
  "nbformat_minor": 0,
  "metadata": {
    "colab": {
      "provenance": []
    },
    "kernelspec": {
      "name": "python3",
      "display_name": "Python 3"
    },
    "language_info": {
      "name": "python"
    }
  },
  "cells": [
    {
      "cell_type": "code",
      "execution_count": 9,
      "metadata": {
        "id": "W4jA2nk6laIR"
      },
      "outputs": [],
      "source": [
        "import numpy as np\n",
        "import matplotlib.pyplot as plt\n",
        "%matplotlib inline\n",
        "import keras\n",
        "from keras.models import Sequential\n",
        "from keras.layers import Dense, Dropout\n",
        "from sklearn.metrics import confusion_matrix\n",
        "import seaborn as sns\n",
        "np.random.seed(0)"
      ]
    },
    {
      "cell_type": "code",
      "source": [
        "from keras.datasets import mnist"
      ],
      "metadata": {
        "id": "92_nkm1Tldfx"
      },
      "execution_count": 12,
      "outputs": []
    },
    {
      "cell_type": "code",
      "source": [
        "(xtrain,ytrain),(xtest,ytest)=mnist.load_data()"
      ],
      "metadata": {
        "id": "VMqIpaNWSQeP"
      },
      "execution_count": 11,
      "outputs": []
    },
    {
      "cell_type": "code",
      "source": [
        "print(xtrain.shape,ytrain.shape)\n",
        "print(xtest.shape,ytest.shape)"
      ],
      "metadata": {
        "colab": {
          "base_uri": "https://localhost:8080/"
        },
        "id": "cgwBV88VSZex",
        "outputId": "38f690d1-82de-49ee-b51d-b6b67da10cbf"
      },
      "execution_count": 13,
      "outputs": [
        {
          "output_type": "stream",
          "name": "stdout",
          "text": [
            "(60000, 28, 28) (60000,)\n",
            "(10000, 28, 28) (10000,)\n"
          ]
        }
      ]
    },
    {
      "cell_type": "code",
      "source": [
        "numclasses=10\n",
        "f,ax=plt.subplots(1,numclasses,figsize=(20,20))\n",
        "\n",
        "for i in range(0,numclasses):\n",
        "  sample=xtrain[ytrain==i][0]\n",
        "  ax[i].imshow(sample,cmap='gray')\n",
        "  ax[i].set_title(\"Label: {}\".format(i),fontsize=16)"
      ],
      "metadata": {
        "colab": {
          "base_uri": "https://localhost:8080/",
          "height": 172
        },
        "id": "9iF-RamlSke4",
        "outputId": "c85f9dca-7848-4ae8-eb77-05d0aa4d2637"
      },
      "execution_count": 16,
      "outputs": [
        {
          "output_type": "display_data",
          "data": {
            "text/plain": [
              "<Figure size 2000x2000 with 10 Axes>"
            ],
            "image/png": "[encoded data removed]"
          },
          "metadata": {}
        }
      ]
    },
    {
      "cell_type": "code",
      "source": [
        "for i in range(10):\n",
        "  print(ytrain[i])"
      ],
      "metadata": {
        "colab": {
          "base_uri": "https://localhost:8080/"
        },
        "id": "KJNEIobCVIrS",
        "outputId": "45f4e60e-5e2a-4fa4-bfef-a845eb19da43"
      },
      "execution_count": 18,
      "outputs": [
        {
          "output_type": "stream",
          "name": "stdout",
          "text": [
            "5\n",
            "0\n",
            "4\n",
            "1\n",
            "9\n",
            "2\n",
            "1\n",
            "3\n",
            "1\n",
            "4\n"
          ]
        }
      ]
    },
    {
      "cell_type": "code",
      "source": [
        "ytrain=keras.utils.to_categorical(ytrain,numclasses)\n",
        "ytest=keras.utils.to_categorical(ytest,numclasses)"
      ],
      "metadata": {
        "id": "0aRf73D4a_Ia"
      },
      "execution_count": 19,
      "outputs": []
    },
    {
      "cell_type": "code",
      "source": [
        "for i in range(10):\n",
        "  print(ytrain[i])"
      ],
      "metadata": {
        "colab": {
          "base_uri": "https://localhost:8080/"
        },
        "id": "8NcwQqMobR10",
        "outputId": "f8fb3127-ece3-46f8-baf8-204b5b1fd0fa"
      },
      "execution_count": 20,
      "outputs": [
        {
          "output_type": "stream",
          "name": "stdout",
          "text": [
            "[0. 0. 0. 0. 0. 1. 0. 0. 0. 0.]\n",
            "[1. 0. 0. 0. 0. 0. 0. 0. 0. 0.]\n",
            "[0. 0. 0. 0. 1. 0. 0. 0. 0. 0.]\n",
            "[0. 1. 0. 0. 0. 0. 0. 0. 0. 0.]\n",
            "[0. 0. 0. 0. 0. 0. 0. 0. 0. 1.]\n",
            "[0. 0. 1. 0. 0. 0. 0. 0. 0. 0.]\n",
            "[0. 1. 0. 0. 0. 0. 0. 0. 0. 0.]\n",
            "[0. 0. 0. 1. 0. 0. 0. 0. 0. 0.]\n",
            "[0. 1. 0. 0. 0. 0. 0. 0. 0. 0.]\n",
            "[0. 0. 0. 0. 1. 0. 0. 0. 0. 0.]\n"
          ]
        }
      ]
    },
    {
      "cell_type": "code",
      "source": [
        "xtrain=xtrain/255\n",
        "xtest=xtest=xtest/255"
      ],
      "metadata": {
        "id": "q8e7nfqibWO1"
      },
      "execution_count": 21,
      "outputs": []
    },
    {
      "cell_type": "code",
      "source": [
        "xtrain=xtrain.reshape(xtrain.shape[0],-1)\n",
        "xtest=xtest.reshape(xtest.shape[0],-1)\n",
        "print(xtrain.shape)\n",
        "print(xtest.shape)"
      ],
      "metadata": {
        "colab": {
          "base_uri": "https://localhost:8080/"
        },
        "id": "RnZJ8ZAQcreZ",
        "outputId": "b2708b93-1313-4808-98db-095c69dec069"
      },
      "execution_count": 22,
      "outputs": [
        {
          "output_type": "stream",
          "name": "stdout",
          "text": [
            "(60000, 784)\n",
            "(10000, 784)\n"
          ]
        }
      ]
    },
    {
      "cell_type": "code",
      "source": [
        "model=Sequential()\n",
        "model.add(Dense(units=128,input_shape=(784,),activation='relu'))\n",
        "model.add(Dense(units=128,activation='relu'))\n",
        "model.add(Dropout(0.25))\n",
        "model.add(Dense(units=10,activation='softmax'))\n",
        "model.compile(loss='categorical_crossentropy',optimizer='adam',metrics=['accuracy'])\n",
        "model.summary()"
      ],
      "metadata": {
        "colab": {
          "base_uri": "https://localhost:8080/"
        },
        "id": "aGmbfCWqfBTQ",
        "outputId": "ec22c787-d38d-4014-ed84-46b73c9693fb"
      },
      "execution_count": 24,
      "outputs": [
        {
          "output_type": "stream",
          "name": "stdout",
          "text": [
            "Model: \"sequential\"\n",
            "_________________________________________________________________\n",
            " Layer (type)                Output Shape              Param #   \n",
            "=================================================================\n",
            " dense (Dense)               (None, 128)               100480    \n",
            "                                                                 \n",
            " dense_1 (Dense)             (None, 128)               16512     \n",
            "                                                                 \n",
            " dropout (Dropout)           (None, 128)               0         \n",
            "                                                                 \n",
            " dense_2 (Dense)             (None, 10)                1290      \n",
            "                                                                 \n",
            "=================================================================\n",
            "Total params: 118282 (462.04 KB)\n",
            "Trainable params: 118282 (462.04 KB)\n",
            "Non-trainable params: 0 (0.00 Byte)\n",
            "_________________________________________________________________\n"
          ]
        }
      ]
    },
    {
      "cell_type": "code",
      "source": [
        "batchsize=512\n",
        "epochs=12\n",
        "model.fit(x=xtrain,y=ytrain,batch_size=batchsize,epochs=epochs)"
      ],
      "metadata": {
        "colab": {
          "base_uri": "https://localhost:8080/"
        },
        "id": "LoFyyQrP3ZRu",
        "outputId": "25bfe696-ce87-4eba-845f-bb9acb8d1040"
      },
      "execution_count": 25,
      "outputs": [
        {
          "output_type": "stream",
          "name": "stdout",
          "text": [
            "Epoch 1/12\n",
            "118/118 [==============================] - 2s 10ms/step - loss: 0.6124 - accuracy: 0.8205\n",
            "Epoch 2/12\n",
            "118/118 [==============================] - 1s 11ms/step - loss: 0.2274 - accuracy: 0.9340\n",
            "Epoch 3/12\n",
            "118/118 [==============================] - 2s 15ms/step - loss: 0.1619 - accuracy: 0.9524\n",
            "Epoch 4/12\n",
            "118/118 [==============================] - 1s 10ms/step - loss: 0.1290 - accuracy: 0.9622\n",
            "Epoch 5/12\n",
            "118/118 [==============================] - 1s 10ms/step - loss: 0.1055 - accuracy: 0.9690\n",
            "Epoch 6/12\n",
            "118/118 [==============================] - 1s 10ms/step - loss: 0.0894 - accuracy: 0.9738\n",
            "Epoch 7/12\n",
            "118/118 [==============================] - 1s 10ms/step - loss: 0.0761 - accuracy: 0.9770\n",
            "Epoch 8/12\n",
            "118/118 [==============================] - 1s 10ms/step - loss: 0.0655 - accuracy: 0.9801\n",
            "Epoch 9/12\n",
            "118/118 [==============================] - 1s 10ms/step - loss: 0.0588 - accuracy: 0.9822\n",
            "Epoch 10/12\n",
            "118/118 [==============================] - 1s 10ms/step - loss: 0.0515 - accuracy: 0.9849\n",
            "Epoch 11/12\n",
            "118/118 [==============================] - 1s 10ms/step - loss: 0.0438 - accuracy: 0.9866\n",
            "Epoch 12/12\n",
            "118/118 [==============================] - 1s 12ms/step - loss: 0.0402 - accuracy: 0.9878\n"
          ]
        },
        {
          "output_type": "execute_result",
          "data": {
            "text/plain": [
              "<keras.src.callbacks.History at 0x79befef90e20>"
            ]
          },
          "metadata": {},
          "execution_count": 25
        }
      ]
    },
    {
      "cell_type": "code",
      "source": [
        "testloss,testacc=model.evaluate(xtest,ytest)\n",
        "print(\"Test loss is {}, Test accuracy is {}\".format(testloss,testacc))"
      ],
      "metadata": {
        "colab": {
          "base_uri": "https://localhost:8080/"
        },
        "id": "xIaVE_xc5Pr5",
        "outputId": "59e25b87-0b99-4cc7-df93-72cd8ba885a4"
      },
      "execution_count": 26,
      "outputs": [
        {
          "output_type": "stream",
          "name": "stdout",
          "text": [
            "313/313 [==============================] - 1s 2ms/step - loss: 0.0725 - accuracy: 0.9785\n",
            "Test loss is 0.07247637957334518, Test accuracy is 0.9785000085830688\n"
          ]
        }
      ]
    },
    {
      "cell_type": "code",
      "source": [
        "y_pred=model.predict(xtest)\n",
        "y_pred_classes=np.argmax(y_pred,axis=1)\n",
        "print(y_pred)\n",
        "print(y_pred_classes)"
      ],
      "metadata": {
        "colab": {
          "base_uri": "https://localhost:8080/"
        },
        "id": "5rmCD36F7HSN",
        "outputId": "c2d13bb8-40de-4418-84e4-2cb44b423698"
      },
      "execution_count": 28,
      "outputs": [
        {
          "output_type": "stream",
          "name": "stdout",
          "text": [
            "313/313 [==============================] - 1s 2ms/step\n",
            "[[8.78084904e-07 3.63782419e-07 6.72734132e-06 ... 9.99954045e-01\n",
            "  5.36421737e-07 6.20834908e-06]\n",
            " [9.89873961e-09 5.46006013e-05 9.99857187e-01 ... 6.50153211e-08\n",
            "  8.26967516e-05 9.36037581e-10]\n",
            " [5.28419775e-07 9.99464154e-01 5.88976218e-05 ... 3.08972492e-04\n",
            "  4.31066946e-05 1.04750416e-06]\n",
            " ...\n",
            " [2.71612843e-09 5.18119769e-08 7.34564909e-11 ... 6.05720334e-06\n",
            "  2.76175388e-06 2.67075302e-06]\n",
            " [2.83308349e-10 1.76381043e-08 3.61910191e-09 ... 1.16124745e-07\n",
            "  1.08654285e-05 4.12660982e-11]\n",
            " [1.01942488e-09 6.48677986e-11 2.13173101e-09 ... 4.56253525e-13\n",
            "  2.34635228e-10 5.55610896e-13]]\n",
            "[7 2 1 ... 4 5 6]\n"
          ]
        }
      ]
    },
    {
      "cell_type": "code",
      "source": [
        "#SINGLE EXAMPLE\n",
        "random_idx=np.random.choice(len(xtest))\n",
        "xsample=xtest[random_idx]\n",
        "ytrue=np.argmax(ytest,axis=1)\n",
        "y_sample_true=ytrue[random_idx]\n",
        "y_sample_pred_class=y_pred_classes[random_idx]\n",
        "\n",
        "plt.title(\"Predicted: {}, True: {}\".format(y_sample_pred_class,y_sample_true),fontsize=16)\n",
        "plt.imshow(xsample.reshape(28,28),cmap='gray')"
      ],
      "metadata": {
        "colab": {
          "base_uri": "https://localhost:8080/",
          "height": 471
        },
        "id": "nggwd0Nl-V53",
        "outputId": "c463c49c-92aa-45b8-8ee3-bc5dd1ca2c1f"
      },
      "execution_count": 30,
      "outputs": [
        {
          "output_type": "execute_result",
          "data": {
            "text/plain": [
              "<matplotlib.image.AxesImage at 0x79befef51a50>"
            ]
          },
          "metadata": {},
          "execution_count": 30
        },
        {
          "output_type": "display_data",
          "data": {
            "text/plain": [
              "<Figure size 640x480 with 1 Axes>"
            ],
            "image/png": "[encoded data removed]"
          },
          "metadata": {}
        }
      ]
    },
    {
      "cell_type": "code",
      "source": [],
      "metadata": {
        "id": "QWSiGOpeBKnG"
      },
      "execution_count": null,
      "outputs": []
    }
  ]
}